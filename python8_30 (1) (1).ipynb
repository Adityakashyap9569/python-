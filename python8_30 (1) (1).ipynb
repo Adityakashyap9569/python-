{
 "cells": [
  {
   "cell_type": "code",
   "execution_count": null,
   "id": "2732d610",
   "metadata": {},
   "outputs": [],
   "source": [
    "# condition statement: if,else,elif"
   ]
  },
  {
   "cell_type": "code",
   "execution_count": null,
   "id": "9103e116",
   "metadata": {},
   "outputs": [],
   "source": [
    "# if condition:\n",
    "#    block of code"
   ]
  },
  {
   "cell_type": "code",
   "execution_count": null,
   "id": "bf89cc9a",
   "metadata": {},
   "outputs": [],
   "source": [
    "n = int(input('enter your age: '))\n",
    "\n",
    "if n>=12:\n",
    "    print(\"your age is \",n)\n"
   ]
  },
  {
   "cell_type": "code",
   "execution_count": null,
   "id": "429120e1",
   "metadata": {},
   "outputs": [],
   "source": [
    "# elif: uses for satisfying multiple conditions\n",
    "\n",
    "n = int(input('enter your age: '))\n",
    "\n",
    "# print(type(n))\n",
    "\n",
    "# print(n)\n",
    "\n",
    "if n<10:\n",
    "    print(\"ticket is free\")\n",
    "    \n",
    "# elif 10<=n<20:\n",
    "#     print('ticket price is 100')\n",
    "    \n",
    "# elif 20<=n<50:\n",
    "#     print('ticket price is 200')\n",
    "    \n",
    "else:\n",
    "    print('you are too old')\n"
   ]
  },
  {
   "cell_type": "code",
   "execution_count": null,
   "id": "b74a9010",
   "metadata": {},
   "outputs": [],
   "source": [
    "# for loop:"
   ]
  },
  {
   "cell_type": "code",
   "execution_count": null,
   "id": "dda914ef",
   "metadata": {},
   "outputs": [],
   "source": [
    "# for i in iterable:\n",
    "#     print(i)"
   ]
  },
  {
   "cell_type": "code",
   "execution_count": null,
   "id": "a2efe157",
   "metadata": {},
   "outputs": [],
   "source": [
    "for i in range(10):   # range(start,end-1,step) ---> \n",
    "    print(i,end=',')"
   ]
  },
  {
   "cell_type": "code",
   "execution_count": null,
   "id": "953e101d",
   "metadata": {},
   "outputs": [],
   "source": [
    "for i in range(0,10):   \n",
    "    print(i,end=',')"
   ]
  },
  {
   "cell_type": "code",
   "execution_count": null,
   "id": "7e324d04",
   "metadata": {},
   "outputs": [],
   "source": [
    "for i in range(5,10):   \n",
    "    print(i,end=',')"
   ]
  },
  {
   "cell_type": "code",
   "execution_count": null,
   "id": "7a29ec8a",
   "metadata": {},
   "outputs": [],
   "source": [
    "for i in range(0,10,2):   \n",
    "    print(i,end=',')"
   ]
  },
  {
   "cell_type": "code",
   "execution_count": null,
   "id": "88f603ae",
   "metadata": {},
   "outputs": [],
   "source": [
    "s = 'qwerty'\n",
    "\n",
    "for i in s:\n",
    "    print(i,end=\",\")\n",
    "#     print(type(i))"
   ]
  },
  {
   "cell_type": "code",
   "execution_count": null,
   "id": "1c6e8035",
   "metadata": {},
   "outputs": [],
   "source": [
    "s = ['1','2','3','4','5']\n",
    "\n",
    "for i in s:\n",
    "    \n",
    "    if int(i)>3:\n",
    "        \n",
    "        print(i,end=\",\")\n",
    "#     print(type(i))"
   ]
  },
  {
   "cell_type": "code",
   "execution_count": null,
   "id": "a7e717bc",
   "metadata": {},
   "outputs": [],
   "source": [
    "for i in range(10):\n",
    "    if i==7:\n",
    "        break\n",
    "    print(i,end=\",\")"
   ]
  },
  {
   "cell_type": "code",
   "execution_count": null,
   "id": "d1289539",
   "metadata": {},
   "outputs": [],
   "source": [
    "for i in range(10):\n",
    "    if i==7:\n",
    "        continue\n",
    "    print(i,end=\",\")"
   ]
  },
  {
   "cell_type": "code",
   "execution_count": null,
   "id": "0daf7ab4",
   "metadata": {},
   "outputs": [],
   "source": [
    "# iterable --> also an object---> uses iter() function ---> and generate iterator\n",
    "\n",
    "# iterator --> also an object --> uses next() fuction ---> for returning output"
   ]
  },
  {
   "cell_type": "code",
   "execution_count": null,
   "id": "554ebed5",
   "metadata": {},
   "outputs": [],
   "source": [
    "# while loop:\n",
    "\n",
    "#  while condition:\n",
    "#       block of code"
   ]
  },
  {
   "cell_type": "code",
   "execution_count": null,
   "id": "d063b026",
   "metadata": {},
   "outputs": [],
   "source": [
    "i = 0\n",
    "\n",
    "while i<=12:\n",
    "    print(i,end=\",\")\n",
    "    \n",
    "    i = i+1"
   ]
  },
  {
   "cell_type": "code",
   "execution_count": null,
   "id": "abb3566b",
   "metadata": {},
   "outputs": [],
   "source": [
    "i = 0\n",
    "\n",
    "\n",
    "    \n",
    "while i<12:\n",
    "    print(i,end=\",\")\n",
    "\n",
    "    \n",
    "    i = i+1"
   ]
  },
  {
   "cell_type": "code",
   "execution_count": null,
   "id": "41f76521",
   "metadata": {},
   "outputs": [],
   "source": [
    "l1 = ['a','b','c']\n",
    "\n",
    "l2 = ['a','b','c']\n",
    "\n",
    "print(l1==l2)  # equal operator only check value"
   ]
  },
  {
   "cell_type": "code",
   "execution_count": null,
   "id": "b985c8f4",
   "metadata": {},
   "outputs": [],
   "source": [
    "l1 = ['a','b','c']\n",
    "\n",
    "l2 = ['a','b','c']\n",
    "\n",
    "print(l1 is l2)  # is operator check value and position"
   ]
  },
  {
   "cell_type": "code",
   "execution_count": null,
   "id": "75629ecf",
   "metadata": {},
   "outputs": [],
   "source": [
    "# reverse integer:\n",
    "\n",
    "n = int(input(\"enter number: \"))  # 123\n",
    "\n",
    "reverse = 0\n",
    "\n",
    "while n!=0:  # 123!=0\n",
    "    reverse = reverse*10 + n%10  #  reverse = 0*10 + 3       # 123%10==3\n",
    "    n = n//10  # 123//10==12\n",
    "print(\"after reverse \",reverse)\n",
    "    "
   ]
  },
  {
   "cell_type": "code",
   "execution_count": null,
   "id": "e6fe522b",
   "metadata": {},
   "outputs": [],
   "source": [
    "# fibonacci series: 0,1,1,2,3,5\n",
    "\n",
    "def fibonacci(n):\n",
    "    a = 0\n",
    "    b = 1\n",
    "    if n==1:\n",
    "        print(a)\n",
    "    else:\n",
    "        print(a,b,end=\" \")\n",
    "        \n",
    "        for i in range(n-2):\n",
    "            c = a+b  # c = 1+2=3\n",
    "            a = b # 1\n",
    "            b = c # 2\n",
    "            print(b,end=\" \")\n",
    "            \n",
    "            \n",
    "fibonacci(6)\n",
    "\n",
    "\n"
   ]
  },
  {
   "cell_type": "code",
   "execution_count": null,
   "id": "9505f940",
   "metadata": {},
   "outputs": [],
   "source": [
    "# armstrong number:\n",
    "# 123 = 1**3 + 2**3 + 3**3\n",
    "# 1234 = 1**4 + 2**4 + 3**4 + 4**4\n",
    "\n",
    "num = input(\"enter number: \")\n",
    "\n",
    "order = len(num)\n",
    "\n",
    "sum = 0\n",
    "\n",
    "\n",
    "t = int(num)\n",
    "\n",
    "while t>0:\n",
    "    remainder = t%10\n",
    "    sum = sum + remainder**order\n",
    "    t = t//10\n",
    "if int(num)==sum:\n",
    "    print(\"arm num.\")\n",
    "else:\n",
    "    print(\"not a arm no.\")\n",
    "    \n",
    "print(\"after running code: \",sum)\n",
    "\n",
    "\n",
    "\n"
   ]
  },
  {
   "cell_type": "code",
   "execution_count": null,
   "id": "31e3b9c4",
   "metadata": {},
   "outputs": [],
   "source": [
    "print(1**4 + 6**4 + 3**4 + 4**4)"
   ]
  },
  {
   "cell_type": "code",
   "execution_count": null,
   "id": "3ac6d502",
   "metadata": {},
   "outputs": [],
   "source": [
    "# integer palindrom: 121==121\n",
    "\n",
    "num = int(input(\"enter no. : \"))\n",
    "\n",
    "reverse,t= 0,num\n",
    "\n",
    "while t!=0:\n",
    "    reverse = reverse*10 + t%10\n",
    "    t = t//10\n",
    "if reverse==num:\n",
    "    print(\"palindrome no.\")\n",
    "else:\n",
    "    print(\"not\")\n",
    "\n",
    "\n"
   ]
  },
  {
   "cell_type": "code",
   "execution_count": null,
   "id": "2bbf9372",
   "metadata": {},
   "outputs": [],
   "source": [
    "# string palindrom: naman==naman\n",
    "\n",
    "string = input(\"enter: \")\n",
    "\n",
    "if string==string[::-1]:\n",
    "    print('string is palindrom')\n",
    "else:\n",
    "    print(\"not a palindrome\")"
   ]
  },
  {
   "cell_type": "code",
   "execution_count": null,
   "id": "dd93a0a7",
   "metadata": {},
   "outputs": [],
   "source": [
    "# check binary no. ; 010101111110\n",
    "\n",
    "n = int(input('enter binary no. : '))\n",
    "\n",
    "while n>0:\n",
    "    f = n%10\n",
    "    if f!=0 and f!=1:\n",
    "        print(\"not a binary no.\")\n",
    "        break\n",
    "    n = n//10\n",
    "    \n",
    "    if n==0:\n",
    "        print(\"binary no.\")\n"
   ]
  },
  {
   "cell_type": "code",
   "execution_count": null,
   "id": "d35adc84",
   "metadata": {},
   "outputs": [],
   "source": [
    "# find sum of sum:\n",
    "\n",
    "def sum(n):\n",
    "    l = 0\n",
    "    \n",
    "    for i in str(n):\n",
    "        l = l + int(i)\n",
    "    return l\n",
    "\n",
    "print(sum(123))\n",
    "    \n",
    "    "
   ]
  },
  {
   "cell_type": "code",
   "execution_count": null,
   "id": "96276c0d",
   "metadata": {},
   "outputs": [],
   "source": [
    "# swapping:\n",
    "\n",
    "a = int(input('enter 1st no. : ')) # 5\n",
    "b = int(input(\"enter 2nd no. : \")) # 6\n",
    "\n",
    "a = a-b  = 5-6= -1\n",
    "b = a+b  = -1+6= 5\n",
    "a = b-a  = 5+1  = 6\n",
    "\n",
    "print(\"a: \",a)\n",
    "print(\"b: \",b)"
   ]
  },
  {
   "cell_type": "code",
   "execution_count": null,
   "id": "e3f3f9da",
   "metadata": {},
   "outputs": [],
   "source": [
    "a = int(input('enter 1st no. : ')) # 5\n",
    "b = int(input(\"enter 2nd no. : \")) # 6\n",
    "\n",
    "t = a\n",
    "a = b\n",
    "b = t\n",
    "\n",
    "\n",
    "print(\"a: \",a)\n",
    "print(\"b: \",b)"
   ]
  },
  {
   "cell_type": "code",
   "execution_count": null,
   "id": "6362611c",
   "metadata": {},
   "outputs": [],
   "source": [
    "# given no. is perfect or not:\n",
    "\n",
    "# 28 ---> 1,2,4,7,14 itself excluded\n",
    "\n",
    "# a number that is equal to tha sum of its +ve divisors,excluding the no. itself \n",
    "\n",
    "n = int(input('enter no.: '))\n",
    "\n",
    "sum = 0\n",
    "\n",
    "for i in range(1,n):\n",
    "    if n%i==0:\n",
    "        sum += i\n",
    "if sum==n:\n",
    "    print(\"given no. is perfect no.\")\n",
    "else:\n",
    "    print('not a perfect no.')\n",
    "\n"
   ]
  },
  {
   "cell_type": "code",
   "execution_count": null,
   "id": "fd62a93a",
   "metadata": {},
   "outputs": [],
   "source": [
    "# find out prime factors or multipliers:\n",
    "# divided by 1 and itself\n",
    "\n",
    "def primefactors(n):  # 10\n",
    "    \n",
    "    c = 2  # 3\n",
    "    while n>1:  # 5>1\n",
    "        if n%c==0:    # 5%3==0      \n",
    "            print(c,end=' ')\n",
    "            n = n/c    # 10/2 ==5.0  \n",
    "        else:\n",
    "            c = c + 1  # 3\n",
    "\n",
    "primefactors(20)\n",
    "    \n",
    "    \n",
    "    "
   ]
  },
  {
   "cell_type": "code",
   "execution_count": null,
   "id": "b6fa5302",
   "metadata": {},
   "outputs": [],
   "source": [
    "# factorial\n",
    "# 5! == 5*4*3*2*1\n",
    "\n",
    "n = int(input(\"enter no. :  \"))\n",
    "\n",
    "factorial=1\n",
    "if n<0:\n",
    "    print(\"fact does'nt exit of negative no.\")\n",
    "elif n==0:\n",
    "    print(\"fact of 0 : 1\")\n",
    "    \n",
    "    \n",
    "else:\n",
    "    for i in range(1,n+1):  # range(1,6)--->1,2,3,4,5\n",
    "           factorial *= i\n",
    "    print(\"fact :\",factorial)\n",
    "          \n",
    "\n",
    "\n"
   ]
  },
  {
   "cell_type": "code",
   "execution_count": null,
   "id": "61229c98",
   "metadata": {},
   "outputs": [],
   "source": [
    "for i in range(5,0,-1):    # range(start,end+1,-1)----> in case of reverse indexing.\n",
    "    \n",
    "    print(i)"
   ]
  },
  {
   "cell_type": "code",
   "execution_count": null,
   "id": "695c1e6a",
   "metadata": {},
   "outputs": [],
   "source": [
    "# calculator:\n",
    "\n",
    "n1 = int(input(\"pls entr 1st : \"))\n",
    "n2 = int(input(\"pls entr 1st : \"))\n",
    "\n",
    "op = input(\"enter operations +,-,*,/,// :\")\n",
    "\n",
    "if op==\"+\":\n",
    "    print(n1+n2)\n",
    "elif op=='-':\n",
    "    print(n1-n2)\n",
    "elif op=='*':\n",
    "    print(n1*n2)\n",
    "elif op=='/':\n",
    "    print(n1/n2)\n",
    "elif op=='//':\n",
    "    print(n1//n2)\n",
    "else:\n",
    "    print(\"invalid option\")"
   ]
  },
  {
   "cell_type": "code",
   "execution_count": null,
   "id": "ca0654c7",
   "metadata": {},
   "outputs": [],
   "source": [
    "# lcm:\n",
    "#.   2 8,12\n",
    "#.    2 4,6\n",
    "\n",
    "#.    2  2,3\n",
    "\n",
    "#.     3   1,3\n",
    "\n",
    "#       1   1,1\n",
    "\n",
    "#. 2*2*2*3 == 24\n"
   ]
  },
  {
   "cell_type": "code",
   "execution_count": 27,
   "id": "c6afea1b",
   "metadata": {},
   "outputs": [
    {
     "ename": "IndentationError",
     "evalue": "expected an indented block (336244430.py, line 13)",
     "output_type": "error",
     "traceback": [
      "\u001b[0;36m  Input \u001b[0;32mIn [27]\u001b[0;36m\u001b[0m\n\u001b[0;31m    greater = greater + 1\u001b[0m\n\u001b[0m    ^\u001b[0m\n\u001b[0;31mIndentationError\u001b[0m\u001b[0;31m:\u001b[0m expected an indented block\n"
     ]
    }
   ],
   "source": [
    "\n",
    "\n",
    "def lcm(n1,n2):   # \n",
    "    if n1>n2:\n",
    "        greater = n1\n",
    "    else:\n",
    "        greater = n2\n",
    "        \n",
    "    while (True):\n",
    "        \n",
    "        if ((greater%n1==0) and (greater%n2==0)):  # 24%8 ==0  and  24%12==0\n",
    "            \n",
    "            break\n",
    "            \n",
    "        greater = greater + 1\n",
    "    print(greater)\n",
    "    \n",
    "lcm(8,12)\n"
   ]
  },
  {
   "cell_type": "code",
   "execution_count": null,
   "id": "5bc73d48",
   "metadata": {},
   "outputs": [],
   "source": [
    "def lcm(n1,n2,n3):   # \n",
    "    if n1>n2 and n1>n3:\n",
    "        greater = n1\n",
    "    elif n2>n1 and n2>n3:\n",
    "        greater = n2\n",
    "    else:\n",
    "        greater = n3\n",
    "        \n",
    "    while (True):\n",
    "        \n",
    "        if ((greater%n1==0) and (greater%n2==0) and (greater%n3==0)):  # 24%8 ==0  and  24%12==0\n",
    "            \n",
    "            break\n",
    "            \n",
    "        greater += 1\n",
    "    print(greater)\n",
    "    \n",
    "lcm(8,12,20)"
   ]
  },
  {
   "cell_type": "code",
   "execution_count": null,
   "id": "216802d9",
   "metadata": {},
   "outputs": [],
   "source": [
    "# hcf or gcd:\n",
    "\n",
    "def hcf(n1,n2):\n",
    "    if n1>n2:\n",
    "        minimum = n2\n",
    "    else:\n",
    "        minimum = n1\n",
    "        \n",
    "    for i in range(1,minimum+1):\n",
    "        if ((n1%i==0) and (n2%i==0)):\n",
    "            h = i\n",
    "    print(h)\n",
    "        \n",
    "        \n",
    "hcf(8,12)        "
   ]
  },
  {
   "cell_type": "code",
   "execution_count": null,
   "id": "92db3b04",
   "metadata": {},
   "outputs": [],
   "source": [
    "# leap year:\n",
    "#           century leap year means it divided by 100 and 400\n",
    "#           normal leap year means it divided by 4 but not 100\n",
    "\n",
    "year = int(input('enter year: '))\n",
    "\n",
    "if (year%400==0) and (year%100==0):\n",
    "    print('century leap year')\n",
    "elif (year%4==0) and (year%100!=0):\n",
    "    print('narmal leap year')\n",
    "else:\n",
    "    print('not a leap year')\n"
   ]
  },
  {
   "cell_type": "code",
   "execution_count": 5,
   "id": "24547b4b",
   "metadata": {},
   "outputs": [
    {
     "name": "stdout",
     "output_type": "stream",
     "text": [
      "enter no.1: 20\n",
      "enter no.2: 30\n",
      "21 23 25 27 29 \n",
      "length:  5\n"
     ]
    }
   ],
   "source": [
    "# find out prime no.: 2,3,5,7,11,13,.....\n",
    "\n",
    "lower = int(input('enter no.1: '))\n",
    "upper = int(input('enter no.2: '))\n",
    "k = []\n",
    "\n",
    "for i in range(lower,upper+1):  # range(50,101)\n",
    "    \n",
    "    if i>1:  \n",
    "        for j in range(2,i):  \n",
    "            if i%j==0:  \n",
    "                break\n",
    "            else:\n",
    "                print(i,end=\" \")\n",
    "                k.append(i)\n",
    "                \n",
    "            break\n",
    "print()                \n",
    "print('length: ',len(k))\n",
    "    "
   ]
  },
  {
   "cell_type": "code",
   "execution_count": 3,
   "id": "53b430e3",
   "metadata": {},
   "outputs": [
    {
     "name": "stdout",
     "output_type": "stream",
     "text": [
      "enter characters(a,b,c.....z) : q\n",
      "given char is consonents\n"
     ]
    }
   ],
   "source": [
    "# check vowels and consonents:\n",
    "\n",
    "char = input('enter characters(a,b,c.....z) : ')\n",
    "\n",
    "if (char=='a' or char=='e' or char=='i' or char=='o' or char=='u'):\n",
    "    print('given char is vowel')\n",
    "else:\n",
    "    print('given char is consonents')"
   ]
  },
  {
   "cell_type": "code",
   "execution_count": 6,
   "id": "8507345e",
   "metadata": {},
   "outputs": [
    {
     "name": "stdout",
     "output_type": "stream",
     "text": [
      "(1, 2, 3, 4)\n",
      "(1, 2, 4, 3)\n",
      "(1, 3, 2, 4)\n",
      "(1, 3, 4, 2)\n",
      "(1, 4, 2, 3)\n",
      "(1, 4, 3, 2)\n",
      "(2, 1, 3, 4)\n",
      "(2, 1, 4, 3)\n",
      "(2, 3, 1, 4)\n",
      "(2, 3, 4, 1)\n",
      "(2, 4, 1, 3)\n",
      "(2, 4, 3, 1)\n",
      "(3, 1, 2, 4)\n",
      "(3, 1, 4, 2)\n",
      "(3, 2, 1, 4)\n",
      "(3, 2, 4, 1)\n",
      "(3, 4, 1, 2)\n",
      "(3, 4, 2, 1)\n",
      "(4, 1, 2, 3)\n",
      "(4, 1, 3, 2)\n",
      "(4, 2, 1, 3)\n",
      "(4, 2, 3, 1)\n",
      "(4, 3, 1, 2)\n",
      "(4, 3, 2, 1)\n"
     ]
    }
   ],
   "source": [
    "# permutation and combination\n",
    "# permutation: p(n,r) = n!/(n-r)!\n",
    "# combination: ncr = n!/((n-r)! * r!)\n",
    "\n",
    "from itertools import permutations\n",
    "\n",
    "l = [1,2,3,4]\n",
    "\n",
    "p = permutations(l)\n",
    "\n",
    "#print(p)\n",
    "\n",
    "for i in list(p):\n",
    "    print(i)\n"
   ]
  },
  {
   "cell_type": "code",
   "execution_count": 7,
   "id": "0e920cec",
   "metadata": {},
   "outputs": [
    {
     "name": "stdout",
     "output_type": "stream",
     "text": [
      "(1, 2, 3)\n",
      "(1, 2, 4)\n",
      "(1, 3, 2)\n",
      "(1, 3, 4)\n",
      "(1, 4, 2)\n",
      "(1, 4, 3)\n",
      "(2, 1, 3)\n",
      "(2, 1, 4)\n",
      "(2, 3, 1)\n",
      "(2, 3, 4)\n",
      "(2, 4, 1)\n",
      "(2, 4, 3)\n",
      "(3, 1, 2)\n",
      "(3, 1, 4)\n",
      "(3, 2, 1)\n",
      "(3, 2, 4)\n",
      "(3, 4, 1)\n",
      "(3, 4, 2)\n",
      "(4, 1, 2)\n",
      "(4, 1, 3)\n",
      "(4, 2, 1)\n",
      "(4, 2, 3)\n",
      "(4, 3, 1)\n",
      "(4, 3, 2)\n"
     ]
    }
   ],
   "source": [
    "l = [1,2,3,4]\n",
    "\n",
    "p = permutations(l,3)\n",
    "\n",
    "#print(p)\n",
    "\n",
    "for i in list(p):\n",
    "    print(i)\n"
   ]
  },
  {
   "cell_type": "code",
   "execution_count": 8,
   "id": "05f1388e",
   "metadata": {},
   "outputs": [
    {
     "name": "stdout",
     "output_type": "stream",
     "text": [
      "(1, 2)\n",
      "(1, 3)\n",
      "(1, 4)\n",
      "(2, 1)\n",
      "(2, 3)\n",
      "(2, 4)\n",
      "(3, 1)\n",
      "(3, 2)\n",
      "(3, 4)\n",
      "(4, 1)\n",
      "(4, 2)\n",
      "(4, 3)\n"
     ]
    }
   ],
   "source": [
    "l = [1,2,3,4]\n",
    "\n",
    "p = permutations(l,2)\n",
    "\n",
    "#print(p)\n",
    "\n",
    "for i in list(p):\n",
    "    print(i)\n"
   ]
  },
  {
   "cell_type": "code",
   "execution_count": 10,
   "id": "db34ac0d",
   "metadata": {},
   "outputs": [
    {
     "name": "stdout",
     "output_type": "stream",
     "text": [
      "(1, 2)\n",
      "(1, 3)\n",
      "(2, 3)\n"
     ]
    }
   ],
   "source": [
    "from itertools import combinations\n",
    "\n",
    "l = [1,2,3]\n",
    "\n",
    "p = combinations(l,2)\n",
    "\n",
    "#print(p)\n",
    "\n",
    "for i in list(p):\n",
    "    print(i)"
   ]
  },
  {
   "cell_type": "code",
   "execution_count": 13,
   "id": "97f171cc",
   "metadata": {},
   "outputs": [
    {
     "name": "stdout",
     "output_type": "stream",
     "text": [
      "(2, 3)\n",
      "(2, 1)\n",
      "(3, 1)\n"
     ]
    }
   ],
   "source": [
    "l = [2,3,1]\n",
    "\n",
    "p = combinations(l,2)\n",
    "\n",
    "#print(p)\n",
    "\n",
    "for i in list(p):\n",
    "    print(i)"
   ]
  },
  {
   "cell_type": "code",
   "execution_count": null,
   "id": "709f6d0c",
   "metadata": {},
   "outputs": [],
   "source": [
    "# %d-----> {} pass only integer value and gives error if pass string\n",
    "\n",
    "# %s-----> {} can pass both string and integer type value and it convert integer value into string"
   ]
  },
  {
   "cell_type": "code",
   "execution_count": 10,
   "id": "5cd6e568",
   "metadata": {},
   "outputs": [
    {
     "name": "stdout",
     "output_type": "stream",
     "text": [
      "enter number: 12\n",
      "<class 'str'>\n",
      "number is 12\n",
      "number is 12\n",
      "number is 12\n"
     ]
    }
   ],
   "source": [
    "a = input(\"enter number: \")\n",
    "\n",
    "print(type(a))\n",
    "\n",
    "print(\"number is %d\"%int(a))\n",
    "\n",
    "print('number is {}'.format(a))\n",
    "\n",
    "print(f'number is {a}')"
   ]
  },
  {
   "cell_type": "code",
   "execution_count": 11,
   "id": "9afa7c3d",
   "metadata": {},
   "outputs": [
    {
     "name": "stdout",
     "output_type": "stream",
     "text": [
      "enter number: 12\n",
      "number is 12\n"
     ]
    }
   ],
   "source": [
    "a = input(\"enter number: \")\n",
    "\n",
    "\n",
    "print(\"number is %s\"%(a))"
   ]
  },
  {
   "cell_type": "code",
   "execution_count": 12,
   "id": "137ce725",
   "metadata": {},
   "outputs": [
    {
     "name": "stdout",
     "output_type": "stream",
     "text": [
      "enter number: 12\n",
      "number is 12\n"
     ]
    }
   ],
   "source": [
    "a = input(\"enter number: \")\n",
    "\n",
    "print(\"number is %s\"%int(a))"
   ]
  },
  {
   "cell_type": "code",
   "execution_count": 13,
   "id": "c55cbb63",
   "metadata": {},
   "outputs": [
    {
     "name": "stdout",
     "output_type": "stream",
     "text": [
      "0 : q\n",
      "1 : w\n",
      "2 : r\n",
      "3 : t\n"
     ]
    }
   ],
   "source": [
    "# enumerate():it provides position/indexing and value\n",
    "\n",
    "l = ['q','w','r','t']\n",
    "\n",
    "for position,value in enumerate(l):\n",
    "    \n",
    "    print(position,\":\",value )"
   ]
  },
  {
   "cell_type": "code",
   "execution_count": 14,
   "id": "c82663d1",
   "metadata": {},
   "outputs": [
    {
     "name": "stdout",
     "output_type": "stream",
     "text": [
      "0 : q\n",
      "1 : w\n",
      "2 : e\n",
      "3 : r\n",
      "4 : t\n",
      "5 : y\n"
     ]
    }
   ],
   "source": [
    "l = 'qwerty'\n",
    "\n",
    "for position,value in enumerate(l):\n",
    "    \n",
    "    print(position,\":\",value )"
   ]
  },
  {
   "cell_type": "code",
   "execution_count": null,
   "id": "2c6b7752",
   "metadata": {},
   "outputs": [],
   "source": [
    "l1,l2,l3 = 1,2,3\n",
    "\n",
    "for position,value in enumerate(l):\n",
    "    \n",
    "    print(position,\":\",value )"
   ]
  },
  {
   "cell_type": "code",
   "execution_count": null,
   "id": "00cc544d",
   "metadata": {},
   "outputs": [],
   "source": []
  },
  {
   "cell_type": "code",
   "execution_count": null,
   "id": "106e6af8",
   "metadata": {},
   "outputs": [],
   "source": []
  },
  {
   "cell_type": "code",
   "execution_count": null,
   "id": "ba861578",
   "metadata": {},
   "outputs": [],
   "source": [
    "d = {'a':1,'b':2,'c':3}\n",
    "\n",
    "for key,value in [(1,2),(3,4),()]:\n",
    "    print(key,value)"
   ]
  },
  {
   "cell_type": "code",
   "execution_count": null,
   "id": "0869f2b4",
   "metadata": {},
   "outputs": [],
   "source": [
    "d.items():------->. [(1,2),(3,4),()]"
   ]
  },
  {
   "cell_type": "code",
   "execution_count": 16,
   "id": "2f428fdb",
   "metadata": {},
   "outputs": [
    {
     "name": "stdout",
     "output_type": "stream",
     "text": [
      "1\n",
      "2\n"
     ]
    }
   ],
   "source": [
    "key,value = 1,2  #----->unpacking concept\n",
    "\n",
    "print(key)\n",
    "print(value)"
   ]
  },
  {
   "cell_type": "code",
   "execution_count": 19,
   "id": "b375f314",
   "metadata": {},
   "outputs": [
    {
     "name": "stdout",
     "output_type": "stream",
     "text": [
      "[('q', '1'), ('w', '2'), ('r', '3')]\n"
     ]
    }
   ],
   "source": [
    "# zip(): it merge two list and produce tuple inside list\n",
    "\n",
    "l1 = ['q','w','r']\n",
    "l2 = ['1','2','3']\n",
    "\n",
    "print(list(zip(l1,l2)))"
   ]
  },
  {
   "cell_type": "code",
   "execution_count": 20,
   "id": "bd502cfb",
   "metadata": {},
   "outputs": [
    {
     "name": "stdout",
     "output_type": "stream",
     "text": [
      "{'q': '1', 'w': '2', 'r': '3'}\n"
     ]
    }
   ],
   "source": [
    "l1 = ['q','w','r']\n",
    "l2 = ['1','2','3']\n",
    "\n",
    "d = list(zip(l1,l2))\n",
    "\n",
    "print(dict(d))"
   ]
  },
  {
   "cell_type": "code",
   "execution_count": 23,
   "id": "a6789373",
   "metadata": {},
   "outputs": [
    {
     "name": "stdout",
     "output_type": "stream",
     "text": [
      "[-1, 4, -3, 8, -5, 12, -7, 16, -9]\n"
     ]
    }
   ],
   "source": [
    "# list comprehension:\n",
    "\n",
    "l = [1,2,3,4,5,6,7,8,9]\n",
    "\n",
    "num = [i*2 if i%2==0 else -i for i in l]\n",
    "\n",
    "print(num)\n"
   ]
  },
  {
   "cell_type": "code",
   "execution_count": 27,
   "id": "6b7e8763",
   "metadata": {},
   "outputs": [
    {
     "name": "stdout",
     "output_type": "stream",
     "text": [
      "[-1, 4, -3, 8, -5, 12, -7, 16, -9]\n"
     ]
    }
   ],
   "source": [
    "l = [1,2,3,4,5,6,7,8,9]\n",
    "\n",
    "k = []\n",
    "\n",
    "for i in l:\n",
    "    if i%2==0:\n",
    "        k.append(i*2)\n",
    "    else:\n",
    "        k.append(-i)\n",
    "        \n",
    "print(k)\n",
    "        \n",
    "    "
   ]
  },
  {
   "cell_type": "code",
   "execution_count": 28,
   "id": "47f95189",
   "metadata": {},
   "outputs": [
    {
     "name": "stdout",
     "output_type": "stream",
     "text": [
      "{1: -1, 2: 4, 3: -3, 4: 8, 5: -5, 6: 12, 7: -7, 8: 16, 9: -9}\n"
     ]
    }
   ],
   "source": [
    "# dictionary comprehension:\n",
    "\n",
    "l = [1,2,3,4,5,6,7,8,9]\n",
    "\n",
    "num = {i:i*2 if i%2==0 else -i for i in l}\n",
    "\n",
    "print(num)\n"
   ]
  },
  {
   "cell_type": "code",
   "execution_count": 30,
   "id": "e06ff8f9",
   "metadata": {},
   "outputs": [
    {
     "name": "stdout",
     "output_type": "stream",
     "text": [
      "{1: -1, 2: 4, 3: -3, 4: 8, 5: -5, 6: 12, 7: -7, 8: 16, 9: -9}\n"
     ]
    }
   ],
   "source": [
    "l = [1,2,3,4,5,6,7,8,9]\n",
    "\n",
    "k = {}\n",
    "\n",
    "for i in l:\n",
    "    if i%2==0:\n",
    "        k[i] = i*2\n",
    "    else:\n",
    "        k[i] = -i\n",
    "        \n",
    "print(k)\n",
    "        "
   ]
  },
  {
   "cell_type": "code",
   "execution_count": 12,
   "id": "56f08856",
   "metadata": {},
   "outputs": [
    {
     "name": "stdout",
     "output_type": "stream",
     "text": [
      "*****\n",
      "*   *\n",
      "*   *\n",
      "*****\n",
      "*   *\n",
      "*   *\n",
      "*   *\n"
     ]
    }
   ],
   "source": [
    "# # #\n",
    "#   #\n",
    "# # #\n",
    "#   #\n",
    "\n",
    "for row in range(7):\n",
    "    for col in range(5):  # range(5)---->0,1,2,3,4\n",
    "        if (col==0 or col==4):\n",
    "            print('*',end='')\n",
    "            \n",
    "        elif(row==0 or row==3) and (col>0 and col<4):\n",
    "            print(\"*\",end='')\n",
    "            \n",
    "        else:\n",
    "            print(\"\",end=' ')\n",
    "    print()"
   ]
  },
  {
   "cell_type": "code",
   "execution_count": 9,
   "id": "ffc9c79e",
   "metadata": {},
   "outputs": [
    {
     "name": "stdout",
     "output_type": "stream",
     "text": [
      " *** \n",
      "*   *\n",
      "*   *\n",
      "*****\n",
      "*   *\n",
      "*   *\n",
      "*   *\n"
     ]
    }
   ],
   "source": [
    "for row in range(7):\n",
    "    for col in range(5):  # range(5)---->0,1,2,3,4\n",
    "        \n",
    "        if (((col==0 or col==4) and (row!=0 and row!=3)) or (row==0 and (col>0 and col<4)) or row==3):\n",
    "            print('*',end='')\n",
    "            \n",
    "#         elif (row==0 and (col>0 and col<4)):\n",
    "#             print(\"*\",end='')\n",
    "            \n",
    "#         elif row==3:\n",
    "#             print(\"*\",end='')\n",
    "            \n",
    "        else:\n",
    "            print(\"\",end=' ')\n",
    "    print()"
   ]
  },
  {
   "cell_type": "code",
   "execution_count": 26,
   "id": "f3203cca",
   "metadata": {},
   "outputs": [
    {
     "name": "stdout",
     "output_type": "stream",
     "text": [
      "|@@@ \n",
      "|   *\n",
      "|   *\n",
      "|@@@*\n",
      "|   *\n",
      "|   *\n",
      "|@@@ \n"
     ]
    }
   ],
   "source": [
    "# print capital B:\n",
    "\n",
    "for row in range(7):\n",
    "    for col in range(5):\n",
    "        if col==0:\n",
    "            print('|',end='')\n",
    "            \n",
    "        elif col==4 and (row!=0 and row!=6):\n",
    "            print(\"*\",end='')\n",
    "        \n",
    "            \n",
    "        elif ((row==0 or row==3 or row==6) and (col>0 and col<4)):\n",
    "            print('@',end='')\n",
    "            \n",
    "        else:\n",
    "            print('',end=' ')\n",
    "    print()"
   ]
  },
  {
   "cell_type": "code",
   "execution_count": null,
   "id": "5dd5b43c",
   "metadata": {},
   "outputs": [],
   "source": [
    "# function: it is a process to call again and again a code\n",
    "\n",
    "# type of user defined function:\n",
    "#                  1.parameterised fuction\n",
    "#                  2.non-parameterised func\n",
    "#                  3.default parameterised\n",
    "#                  4.positional parameterised func\n",
    "#                  5.anonymous funct like lambda func\n",
    "#                  6.return type func\n",
    "#                  7.recursive func\n",
    "#                  8.argument function like *rgs\n",
    "#                  9.keyword argument func like **kwargs\n",
    "#                  10.decorators\n",
    "#                  11.generator\n",
    "#                  12 iterator"
   ]
  },
  {
   "cell_type": "code",
   "execution_count": 6,
   "id": "c89d9da1",
   "metadata": {},
   "outputs": [
    {
     "name": "stdout",
     "output_type": "stream",
     "text": [
      "10\n"
     ]
    }
   ],
   "source": [
    "# def keyword is uses for creating function\n",
    "\n",
    "# 1.parameterised fuction\n",
    "\n",
    "def add(x,y):   # add is the function name,      x,y is the parameter\n",
    "    t = x+y\n",
    "    print(t)\n",
    "    \n",
    "add(5,5)  # 2,3 is the input and commanly known as arguments while call function\n",
    "    "
   ]
  },
  {
   "cell_type": "code",
   "execution_count": 3,
   "id": "393c6738",
   "metadata": {},
   "outputs": [
    {
     "name": "stdout",
     "output_type": "stream",
     "text": [
      "hello\n"
     ]
    }
   ],
   "source": [
    "# 2.non-parameterised func:\n",
    "\n",
    "def multiply():\n",
    "    print('hello')\n",
    "    \n",
    "    \n",
    "multiply()"
   ]
  },
  {
   "cell_type": "code",
   "execution_count": 7,
   "id": "757c669e",
   "metadata": {},
   "outputs": [
    {
     "name": "stdout",
     "output_type": "stream",
     "text": [
      "10\n",
      "\n",
      "2\n",
      "3\n",
      "5\n"
     ]
    }
   ],
   "source": [
    "# 3.default parameterised:\n",
    "\n",
    "def default(x,y,z=10):\n",
    "    \n",
    "    print(x+y+z)\n",
    "    \n",
    "    print()\n",
    "    \n",
    "    print(x)\n",
    "    print(y)\n",
    "    print(z)\n",
    "    \n",
    "    \n",
    "default(2,3,5)"
   ]
  },
  {
   "cell_type": "code",
   "execution_count": 8,
   "id": "df8f24e2",
   "metadata": {},
   "outputs": [
    {
     "name": "stdout",
     "output_type": "stream",
     "text": [
      "15\n",
      "\n",
      "2\n",
      "3\n",
      "10\n"
     ]
    }
   ],
   "source": [
    "def default(x,y,z=10):\n",
    "    \n",
    "    print(x+y+z)\n",
    "    \n",
    "    print()\n",
    "    \n",
    "    print(x)\n",
    "    print(y)\n",
    "    print(z)\n",
    "    \n",
    "    \n",
    "default(2,3)"
   ]
  },
  {
   "cell_type": "code",
   "execution_count": 11,
   "id": "c5612e42",
   "metadata": {},
   "outputs": [
    {
     "name": "stdout",
     "output_type": "stream",
     "text": [
      "2\n",
      "3\n",
      "ram\n"
     ]
    }
   ],
   "source": [
    "def default(x,y,z='ram'):\n",
    "    \n",
    "#     print(x+y+z)\n",
    "    \n",
    "#     print()\n",
    "    \n",
    "    print(x)\n",
    "    print(y)\n",
    "    print(z)\n",
    "    \n",
    "    \n",
    "default(2,3)"
   ]
  },
  {
   "cell_type": "code",
   "execution_count": 14,
   "id": "6daff796",
   "metadata": {},
   "outputs": [
    {
     "name": "stdout",
     "output_type": "stream",
     "text": [
      "2\n",
      "3\n",
      "4\n"
     ]
    }
   ],
   "source": [
    "# 4.positional parameterised func\n",
    "\n",
    "def positional(x,y,z):\n",
    "    \n",
    "    print(x)\n",
    "    print(y)\n",
    "    print(z)\n",
    "    \n",
    "positional(2,3,4)\n",
    "    \n",
    "    "
   ]
  },
  {
   "cell_type": "code",
   "execution_count": 15,
   "id": "9c63b08a",
   "metadata": {},
   "outputs": [
    {
     "name": "stdout",
     "output_type": "stream",
     "text": [
      "20\n",
      "30\n",
      "10\n"
     ]
    }
   ],
   "source": [
    "def positional(x,y,z):\n",
    "    \n",
    "    print(x)\n",
    "    print(y)\n",
    "    print(z)\n",
    "    \n",
    "positional(z=10,x=20,y=30)"
   ]
  },
  {
   "cell_type": "code",
   "execution_count": null,
   "id": "1e9bdee7",
   "metadata": {},
   "outputs": [],
   "source": [
    "# 5.anonymous function: without name\n",
    "#                                   like lambda function\n",
    "#                                   can not apply loop on lambda function\n",
    "#                                   can perform only mathematical operations"
   ]
  },
  {
   "cell_type": "code",
   "execution_count": null,
   "id": "5608d718",
   "metadata": {},
   "outputs": [],
   "source": [
    "# lambda function:\n",
    "#                   lambda arguments : expression"
   ]
  },
  {
   "cell_type": "code",
   "execution_count": 16,
   "id": "f6ebd2ed",
   "metadata": {},
   "outputs": [
    {
     "name": "stdout",
     "output_type": "stream",
     "text": [
      "5\n"
     ]
    }
   ],
   "source": [
    "s = lambda x,y : x+y\n",
    "\n",
    "print(s(2,3))"
   ]
  },
  {
   "cell_type": "code",
   "execution_count": 18,
   "id": "e5014532",
   "metadata": {},
   "outputs": [
    {
     "name": "stdout",
     "output_type": "stream",
     "text": [
      "9000\n"
     ]
    }
   ],
   "source": [
    "gst = lambda x : x*18//100\n",
    "\n",
    "print(gst(50000))"
   ]
  },
  {
   "cell_type": "code",
   "execution_count": 19,
   "id": "393aefa5",
   "metadata": {},
   "outputs": [
    {
     "name": "stdout",
     "output_type": "stream",
     "text": [
      "14\n"
     ]
    }
   ],
   "source": [
    "multi = lambda x,y,z : (x+y*z)\n",
    "\n",
    "print(multi(2,3,4))"
   ]
  },
  {
   "cell_type": "code",
   "execution_count": 2,
   "id": "49ec45a1",
   "metadata": {},
   "outputs": [
    {
     "name": "stdout",
     "output_type": "stream",
     "text": [
      "enter rows: 6\n",
      "       * \n",
      "      * * \n",
      "     * * * \n",
      "    * * * * \n",
      "   * * * * * \n",
      "  * * * * * * \n"
     ]
    }
   ],
   "source": [
    "# pyramid:\n",
    "\n",
    "n = int(input(\"enter rows: \")) \n",
    "\n",
    "for i in range(0,n): \n",
    "    \n",
    "    for j in range(0,n-i+1):  \n",
    "        print(end=' ')\n",
    "        \n",
    "    for k in range(0,i+1):  \n",
    "        print('*',end=' ')\n",
    "    print()\n",
    "\n"
   ]
  },
  {
   "cell_type": "code",
   "execution_count": null,
   "id": "fc9a50f9",
   "metadata": {},
   "outputs": [],
   "source": [
    "# range(10)--->0,,,9\n",
    "# range(1,10)---->1,....9\n",
    "# range(1,10,1)--->1,2,3,...9\n",
    "# range(1,10,2)--->1,3,5,7\n",
    "\n"
   ]
  },
  {
   "cell_type": "code",
   "execution_count": 21,
   "id": "e06599a0",
   "metadata": {},
   "outputs": [
    {
     "name": "stdout",
     "output_type": "stream",
     "text": [
      "0,1,2,3,4,5,6,7,8,9,"
     ]
    }
   ],
   "source": [
    "for i in range(10):\n",
    "    print(i,end=\",\")"
   ]
  },
  {
   "cell_type": "code",
   "execution_count": null,
   "id": "6fd1c335",
   "metadata": {},
   "outputs": [],
   "source": [
    "for i in range(10):\n",
    "    print(i,end=\",\")"
   ]
  },
  {
   "cell_type": "code",
   "execution_count": 8,
   "id": "2f9172a3",
   "metadata": {},
   "outputs": [
    {
     "name": "stdout",
     "output_type": "stream",
     "text": [
      "K   k\n",
      "K  k \n",
      "K k  \n",
      "Kk   \n",
      "K k  \n",
      "K  k \n",
      "K   k\n"
     ]
    }
   ],
   "source": [
    "# k\n",
    "\n",
    "for row in range(7):\n",
    "    for col in range(5):\n",
    "        if col==0:\n",
    "            print('K',end='')\n",
    "            \n",
    "        elif col==1 and row==3:\n",
    "            print(\"k\",end='')\n",
    "        elif col==4 and row==0:\n",
    "            print(\"k\",end='')\n",
    "        elif col==3 and row==1:\n",
    "            print(\"k\",end='')\n",
    "        elif col==2 and row==2:\n",
    "            print(\"k\",end='')\n",
    "        elif col==4 and row==6:\n",
    "            print(\"k\",end='')\n",
    "        elif col==3 and row==5:\n",
    "            print(\"k\",end='')\n",
    "        elif col==2 and row==4:\n",
    "            print(\"k\",end='')\n",
    "            \n",
    "        else:\n",
    "            print('',end=' ')\n",
    "    print()\n",
    "    "
   ]
  },
  {
   "cell_type": "code",
   "execution_count": 19,
   "id": "c29c4449",
   "metadata": {},
   "outputs": [
    {
     "name": "stdout",
     "output_type": "stream",
     "text": [
      "enter no. of rows:   6\n",
      "*\n",
      "**\n",
      "***\n",
      "****\n",
      "*****\n",
      "******\n"
     ]
    }
   ],
   "source": [
    "# pattern \n",
    "\n",
    "#\n",
    "##\n",
    "###\n",
    "####\n",
    "\n",
    "n = int(input(\"enter no. of rows:   \"))\n",
    "\n",
    "for row in range(1,n+1):\n",
    "    for col in range(1,row+1):\n",
    "        print('*',end='')\n",
    "    print()\n"
   ]
  },
  {
   "cell_type": "code",
   "execution_count": 23,
   "id": "0d15ef4a",
   "metadata": {},
   "outputs": [
    {
     "name": "stdout",
     "output_type": "stream",
     "text": [
      "enter no. of rows:   6\n",
      "*\n",
      "***\n",
      "*****\n",
      "*******\n",
      "*********\n",
      "***********\n"
     ]
    }
   ],
   "source": [
    "n = int(input(\"enter no. of rows:   \"))  \n",
    "\n",
    "k = 1\n",
    "\n",
    "for row in range(1,n+1):   # range(1,7)--->1,2,3,4,5,6\n",
    "    \n",
    "    for col in range(1,k+1):\n",
    "        print('*',end='')\n",
    "        \n",
    "    k += 2\n",
    "    print()"
   ]
  },
  {
   "cell_type": "code",
   "execution_count": 28,
   "id": "84edc0bf",
   "metadata": {},
   "outputs": [
    {
     "name": "stdout",
     "output_type": "stream",
     "text": [
      "enter no. of rows:   6\n",
      "          *\n",
      "        ***\n",
      "      *****\n",
      "    *******\n",
      "  *********\n"
     ]
    }
   ],
   "source": [
    "n = int(input(\"enter no. of rows:   \"))  \n",
    "\n",
    "k = 1\n",
    "\n",
    "for row in range(1,n):   # range(1,7)--->1,2,3,4,5,6\n",
    "    \n",
    "    for space in range(n-row):  # for putting space\n",
    "        print(\" \",end=' ')\n",
    "    \n",
    "    for col in range(1,k+1):   # for printing stars\n",
    "        print('*',end='')\n",
    "        \n",
    "    k += 2\n",
    "    print()    # for changing row"
   ]
  },
  {
   "cell_type": "code",
   "execution_count": null,
   "id": "8e218606",
   "metadata": {},
   "outputs": [],
   "source": [
    "# map: it is inbuilt func\n",
    "#      it takes two arguments like function and iterable\n",
    "#      it returns iterator or map object based on the function and iterable we have passed\n",
    "\n",
    "# map(fuction,iterable)"
   ]
  },
  {
   "cell_type": "code",
   "execution_count": 31,
   "id": "92075d25",
   "metadata": {},
   "outputs": [
    {
     "name": "stdout",
     "output_type": "stream",
     "text": [
      "[180.0, 360.0, 540.0, 720.0, 900.0, 1080.0]\n"
     ]
    }
   ],
   "source": [
    "l = [1000,2000,3000,4000,5000,6000]\n",
    "\n",
    "gst = list(map(lambda x : x*18/100,l))\n",
    "\n",
    "print(gst)"
   ]
  },
  {
   "cell_type": "code",
   "execution_count": 34,
   "id": "26c15287",
   "metadata": {},
   "outputs": [
    {
     "ename": "TypeError",
     "evalue": "gst() missing 1 required positional argument: 'x'",
     "output_type": "error",
     "traceback": [
      "\u001b[0;31m---------------------------------------------------------------------------\u001b[0m",
      "\u001b[0;31mTypeError\u001b[0m                                 Traceback (most recent call last)",
      "Input \u001b[0;32mIn [34]\u001b[0m, in \u001b[0;36m<cell line: 10>\u001b[0;34m()\u001b[0m\n\u001b[1;32m      6\u001b[0m     k \u001b[38;5;241m=\u001b[39m x\u001b[38;5;241m*\u001b[39m\u001b[38;5;241m18\u001b[39m\u001b[38;5;241m/\u001b[39m\u001b[38;5;241m100\u001b[39m\n\u001b[1;32m      8\u001b[0m     \u001b[38;5;28;01mreturn\u001b[39;00m k\n\u001b[0;32m---> 10\u001b[0m q \u001b[38;5;241m=\u001b[39m \u001b[38;5;28mlist\u001b[39m(\u001b[38;5;28mmap\u001b[39m(\u001b[43mgst\u001b[49m\u001b[43m(\u001b[49m\u001b[43m)\u001b[49m,l))\n\u001b[1;32m     12\u001b[0m \u001b[38;5;28mprint\u001b[39m(q)\n",
      "\u001b[0;31mTypeError\u001b[0m: gst() missing 1 required positional argument: 'x'"
     ]
    }
   ],
   "source": [
    "l = [1000,2000,3000,4000,5000,6000]\n",
    "\n",
    "\n",
    "def gst(x):\n",
    "    \n",
    "    k = x*18/100\n",
    "    \n",
    "    return k\n",
    "    \n",
    "q = list(map(gst,l))\n",
    "\n",
    "print(q)"
   ]
  },
  {
   "cell_type": "code",
   "execution_count": null,
   "id": "7f4b5947",
   "metadata": {},
   "outputs": [],
   "source": [
    "# filter: it is inbuilt func and generate filter output\n",
    "#      it takes two arguments like function and iterable\n",
    "#      it returns iterator or map object based on the function and iterable we have passed\n",
    "\n",
    "# filter(fuction,iterable)"
   ]
  },
  {
   "cell_type": "code",
   "execution_count": 36,
   "id": "bf68cd40",
   "metadata": {},
   "outputs": [
    {
     "name": "stdout",
     "output_type": "stream",
     "text": [
      "[2000, 3000, 4000, 5000]\n"
     ]
    }
   ],
   "source": [
    "l = [1000,2000,3000,4000,5000,6000]\n",
    "\n",
    "f =  filter(lambda x : x>1000 and x<6000,l)\n",
    "\n",
    "g = list(f)\n",
    "\n",
    "print(g)"
   ]
  },
  {
   "cell_type": "code",
   "execution_count": 37,
   "id": "6b049ca6",
   "metadata": {},
   "outputs": [
    {
     "name": "stdout",
     "output_type": "stream",
     "text": [
      "[2000, 3000, 4000, 5000]\n"
     ]
    }
   ],
   "source": [
    "l = [1000,2000,3000,4000,5000,6000]\n",
    "\n",
    "\n",
    "def filt(x):\n",
    "    \n",
    "    k = x>1000 and x<6000\n",
    "    \n",
    "    return k\n",
    "    \n",
    "q = list(filter(filt,l))\n",
    "\n",
    "print(q)"
   ]
  },
  {
   "cell_type": "code",
   "execution_count": null,
   "id": "88fb489d",
   "metadata": {},
   "outputs": [],
   "source": [
    "# reduce : it returns single value output\n",
    "#         it merge/binding data\n",
    "\n",
    "# reduce(fuction,sequence)"
   ]
  },
  {
   "cell_type": "code",
   "execution_count": 34,
   "id": "48904734",
   "metadata": {},
   "outputs": [
    {
     "name": "stdout",
     "output_type": "stream",
     "text": [
      "eiopqrtuwy\n"
     ]
    }
   ],
   "source": [
    "import functools\n",
    "\n",
    "s = 'qwertyuiop'\n",
    "\n",
    "t = sorted(s)\n",
    "\n",
    "#print(t)\n",
    "\n",
    "u = functools.reduce(lambda x,y:x+y,t)\n",
    "\n",
    "print(u)\n"
   ]
  },
  {
   "cell_type": "code",
   "execution_count": 37,
   "id": "3f55de5b",
   "metadata": {},
   "outputs": [
    {
     "name": "stdout",
     "output_type": "stream",
     "text": [
      "15\n"
     ]
    }
   ],
   "source": [
    "s1 = '12345'\n",
    "\n",
    "t = sorted(s1)\n",
    "\n",
    "#print(t)\n",
    "\n",
    "u = functools.reduce(lambda x,y: int(x) + int(y),t)\n",
    "\n",
    "print(u)"
   ]
  },
  {
   "cell_type": "code",
   "execution_count": 38,
   "id": "c3e230cc",
   "metadata": {},
   "outputs": [
    {
     "name": "stdout",
     "output_type": "stream",
     "text": [
      "120\n"
     ]
    }
   ],
   "source": [
    "s1 = '12345'\n",
    "\n",
    "t = sorted(s1)\n",
    "\n",
    "#print(t)\n",
    "\n",
    "u = functools.reduce(lambda x,y: int(x) * int(y),t)\n",
    "\n",
    "print(u)"
   ]
  },
  {
   "cell_type": "code",
   "execution_count": 43,
   "id": "09502765",
   "metadata": {},
   "outputs": [
    {
     "name": "stdout",
     "output_type": "stream",
     "text": [
      "5\n"
     ]
    }
   ],
   "source": [
    "# return type fuction:\n",
    "\n",
    "def add(x,y):\n",
    "    \n",
    "    t = x+y\n",
    "    \n",
    "    return t\n",
    "\n",
    "    \n",
    "print(add(2,3))"
   ]
  },
  {
   "cell_type": "code",
   "execution_count": 45,
   "id": "5add3e0a",
   "metadata": {},
   "outputs": [
    {
     "name": "stdout",
     "output_type": "stream",
     "text": [
      "720\n"
     ]
    }
   ],
   "source": [
    "# recursive function: it is a process to call itself again and again untill the condition satisfied.\n",
    "\n",
    "def factorial(x):\n",
    "    \n",
    "    if x==1:\n",
    "        return 1\n",
    "    else:\n",
    "        return (x*factorial(x-1))\n",
    "    \n",
    "factorial(6)"
   ]
  },
  {
   "cell_type": "code",
   "execution_count": 20,
   "id": "60295f6d",
   "metadata": {},
   "outputs": [
    {
     "name": "stdout",
     "output_type": "stream",
     "text": [
      "<class 'tuple'>\n",
      "([1, 2, 3, 4, 5, 6],)\n"
     ]
    }
   ],
   "source": [
    "# argument function: \n",
    "#                   syntax ---> *args   =====> *apna_name\n",
    "#                   output generated by *args is tuple datatype\n",
    "\n",
    "\n",
    "def argument(*args):\n",
    "    \n",
    "    print(type(args))\n",
    "    \n",
    "    return args\n",
    "\n",
    "\n",
    "l = [1,2,3,4,5,6]\n",
    "\n",
    "print(argument(l))\n",
    "\n"
   ]
  },
  {
   "cell_type": "code",
   "execution_count": 22,
   "id": "36ef6501",
   "metadata": {},
   "outputs": [
    {
     "name": "stdout",
     "output_type": "stream",
     "text": [
      "<class 'tuple'>\n",
      "[1, 2, 3, 4, 5, 6, 7, 8, 9]\n"
     ]
    }
   ],
   "source": [
    "def multi(*ram):\n",
    "    \n",
    "    print(type(ram))\n",
    "    \n",
    "    # ram ==> tuple\n",
    "    \n",
    "    for i in ram:\n",
    "        return i\n",
    "        \n",
    "        \n",
    "f = [1,2,3,4,5,6,7,8,9]\n",
    "        \n",
    "print(multi(f))       "
   ]
  },
  {
   "cell_type": "code",
   "execution_count": 34,
   "id": "c88e923c",
   "metadata": {},
   "outputs": [
    {
     "name": "stdout",
     "output_type": "stream",
     "text": [
      "ram\n",
      "q\n",
      "t\n",
      "('w', 't', 'u', 'e')\n"
     ]
    }
   ],
   "source": [
    "def add(k,k1,k2,*x):\n",
    "    \n",
    "    print(k)\n",
    "    print(k1)\n",
    "    print(k2)\n",
    "    print(x)\n",
    "    \n",
    "l = ['a','b','c']\n",
    "    \n",
    "add('ram','q','t','w','t','u','e')"
   ]
  },
  {
   "cell_type": "code",
   "execution_count": 33,
   "id": "095c1e83",
   "metadata": {},
   "outputs": [
    {
     "ename": "NameError",
     "evalue": "name 'k' is not defined",
     "output_type": "error",
     "traceback": [
      "\u001b[0;31m---------------------------------------------------------------------------\u001b[0m",
      "\u001b[0;31mNameError\u001b[0m                                 Traceback (most recent call last)",
      "Input \u001b[0;32mIn [33]\u001b[0m, in \u001b[0;36m<cell line: 8>\u001b[0;34m()\u001b[0m\n\u001b[1;32m      4\u001b[0m     \u001b[38;5;28mprint\u001b[39m(k)\n\u001b[1;32m      6\u001b[0m l \u001b[38;5;241m=\u001b[39m [\u001b[38;5;124m'\u001b[39m\u001b[38;5;124ma\u001b[39m\u001b[38;5;124m'\u001b[39m,\u001b[38;5;124m'\u001b[39m\u001b[38;5;124mb\u001b[39m\u001b[38;5;124m'\u001b[39m,\u001b[38;5;124m'\u001b[39m\u001b[38;5;124mc\u001b[39m\u001b[38;5;124m'\u001b[39m]\n\u001b[0;32m----> 8\u001b[0m add(\u001b[38;5;124m'\u001b[39m\u001b[38;5;124mram\u001b[39m\u001b[38;5;124m'\u001b[39m,\u001b[43mk\u001b[49m\u001b[38;5;241m==\u001b[39ml)\n",
      "\u001b[0;31mNameError\u001b[0m: name 'k' is not defined"
     ]
    }
   ],
   "source": [
    "def adds(*x,k):  # wrong and can not use\n",
    "    \n",
    "    print(x)\n",
    "    print(k)\n",
    "    \n",
    "l = ['a','b','c']\n",
    "    \n",
    "add('ram',k==l)"
   ]
  },
  {
   "cell_type": "code",
   "execution_count": 39,
   "id": "e0585adc",
   "metadata": {},
   "outputs": [
    {
     "name": "stdout",
     "output_type": "stream",
     "text": [
      "<class 'dict'>\n",
      "{'id': 123, 'name': 'ram', 'age': 28}\n"
     ]
    }
   ],
   "source": [
    "# keyword argument:\n",
    "#                  syntax--->**kwarg =====> **any_name\n",
    "#                 output generated by **kwargs is dictionary data type\n",
    "\n",
    "def show(**kwargs):\n",
    "    print(type(kwargs))\n",
    "    print(kwargs)\n",
    "    \n",
    "    \n",
    "show(id=123, name ='ram',age=28)"
   ]
  },
  {
   "cell_type": "code",
   "execution_count": 43,
   "id": "05ee6bd5",
   "metadata": {},
   "outputs": [],
   "source": [
    "# def add(**abc):\n",
    "    \n",
    "#     print(type(abc))\n",
    "    \n",
    "#     for key,value in abc.items():\n",
    "        \n",
    "#         print(f\"{key} : {value}\")\n",
    "        \n",
    "# add(id=123, name ='ram',age=28)\n",
    "    "
   ]
  },
  {
   "cell_type": "code",
   "execution_count": 46,
   "id": "7cb7a9f1",
   "metadata": {},
   "outputs": [
    {
     "name": "stdout",
     "output_type": "stream",
     "text": [
      "ram\n",
      "kumar\n",
      "{'id': 123, 'name': 'ram', 'age': 28, 'addrs': 'delhi'}\n"
     ]
    }
   ],
   "source": [
    "def add1(k1,k2,**kwargs):\n",
    "    print(k1)\n",
    "    print(k2)\n",
    "    print(kwargs)\n",
    "    \n",
    "add1('ram','kumar', id=123, name ='ram',age=28, addrs = 'delhi')"
   ]
  },
  {
   "cell_type": "code",
   "execution_count": 1,
   "id": "74bcc699",
   "metadata": {},
   "outputs": [
    {
     "name": "stdout",
     "output_type": "stream",
     "text": [
      "10\n"
     ]
    }
   ],
   "source": [
    "# decorators:\n",
    "#            it is just like a normal function but it take another function as an parameter or input to\n",
    "#            add functionality and then return another function without changing original code\n",
    "\n",
    "\n",
    "\n",
    "\n",
    "def multiply():\n",
    "    return 10\n",
    "\n",
    "print(multiply())"
   ]
  },
  {
   "cell_type": "code",
   "execution_count": 2,
   "id": "3eebcd17",
   "metadata": {},
   "outputs": [
    {
     "name": "stdout",
     "output_type": "stream",
     "text": [
      "90\n"
     ]
    }
   ],
   "source": [
    "\n",
    "\n",
    "def decorator(func):\n",
    "    def wrapper():\n",
    "        d = func()\n",
    "        multi = d*9\n",
    "        return multi\n",
    "    return wrapper\n",
    "\n",
    "\n",
    "\n",
    "def multiply():\n",
    "    return 10\n",
    "\n",
    "inner = decorator(multiply)\n",
    "print(inner())"
   ]
  },
  {
   "cell_type": "code",
   "execution_count": 3,
   "id": "3401798d",
   "metadata": {},
   "outputs": [
    {
     "name": "stdout",
     "output_type": "stream",
     "text": [
      "90\n"
     ]
    }
   ],
   "source": [
    "def decorator(func):\n",
    "    def wrapper():\n",
    "        d = func()\n",
    "        multi = d*9\n",
    "        return multi\n",
    "    return wrapper\n",
    "\n",
    "\n",
    "@decorator        # --> inner = decorator(multiply)\n",
    "def multiply():\n",
    "    return 10\n",
    "\n",
    "print(multiply())"
   ]
  },
  {
   "cell_type": "code",
   "execution_count": 5,
   "id": "69e3a1d0",
   "metadata": {},
   "outputs": [
    {
     "name": "stdout",
     "output_type": "stream",
     "text": [
      "*************************\n",
      "hello\n",
      "*************************\n",
      "*************************\n",
      "ramesh\n",
      "*************************\n"
     ]
    }
   ],
   "source": [
    "\n",
    "def my_decorator(func):\n",
    "    def wrapper():\n",
    "        print(\"*************************\")\n",
    "        func()\n",
    "        print(\"*************************\")\n",
    "    return wrapper\n",
    "\n",
    "@my_decorator\n",
    "def hello():\n",
    "    print('hello')\n",
    "        \n",
    "hello()\n",
    "\n",
    "@my_decorator\n",
    "def display():\n",
    "    print(\"ramesh\")\n",
    "    \n",
    "display()\n"
   ]
  },
  {
   "cell_type": "code",
   "execution_count": null,
   "id": "46aa1feb",
   "metadata": {},
   "outputs": [],
   "source": [
    "# generator:\n",
    "#          it uses yield keyword\n",
    "#          it is a way of creating iterator\n",
    "#          it generate generator object"
   ]
  },
  {
   "cell_type": "code",
   "execution_count": 6,
   "id": "0c20c194",
   "metadata": {},
   "outputs": [
    {
     "name": "stdout",
     "output_type": "stream",
     "text": [
      "0\n",
      "1\n",
      "2\n",
      "3\n",
      "4\n",
      "5\n",
      "6\n",
      "7\n",
      "8\n",
      "9\n",
      "10\n",
      "11\n",
      "12\n",
      "13\n",
      "14\n",
      "15\n",
      "16\n",
      "17\n",
      "18\n",
      "19\n",
      "20\n",
      "21\n",
      "22\n",
      "23\n",
      "24\n",
      "25\n",
      "26\n",
      "27\n",
      "28\n",
      "29\n",
      "30\n",
      "31\n",
      "32\n",
      "33\n",
      "34\n",
      "35\n",
      "36\n",
      "37\n",
      "38\n",
      "39\n",
      "40\n",
      "41\n",
      "42\n",
      "43\n",
      "44\n",
      "45\n",
      "46\n",
      "47\n",
      "48\n",
      "49\n",
      "50\n",
      "51\n",
      "52\n",
      "53\n",
      "54\n",
      "55\n",
      "56\n",
      "57\n",
      "58\n",
      "59\n",
      "60\n",
      "61\n",
      "62\n",
      "63\n",
      "64\n",
      "65\n",
      "66\n",
      "67\n",
      "68\n",
      "69\n",
      "70\n",
      "71\n",
      "72\n",
      "73\n",
      "74\n",
      "75\n",
      "76\n",
      "77\n",
      "78\n",
      "79\n",
      "80\n",
      "81\n",
      "82\n",
      "83\n",
      "84\n",
      "85\n",
      "86\n",
      "87\n",
      "88\n",
      "89\n",
      "90\n",
      "91\n",
      "92\n",
      "93\n",
      "94\n",
      "95\n",
      "96\n",
      "97\n",
      "98\n",
      "99\n",
      "100\n",
      "101\n",
      "102\n",
      "103\n",
      "104\n",
      "105\n",
      "106\n",
      "107\n",
      "108\n",
      "109\n",
      "110\n",
      "111\n",
      "112\n",
      "113\n",
      "114\n",
      "115\n",
      "116\n",
      "117\n",
      "118\n",
      "119\n",
      "120\n",
      "121\n",
      "122\n",
      "123\n",
      "124\n",
      "125\n",
      "126\n",
      "127\n",
      "128\n",
      "129\n",
      "130\n",
      "131\n",
      "132\n",
      "133\n",
      "134\n",
      "135\n",
      "136\n",
      "137\n",
      "138\n",
      "139\n",
      "140\n",
      "141\n",
      "142\n",
      "143\n",
      "144\n",
      "145\n",
      "146\n",
      "147\n",
      "148\n",
      "149\n",
      "150\n",
      "151\n",
      "152\n",
      "153\n",
      "154\n",
      "155\n",
      "156\n",
      "157\n",
      "158\n",
      "159\n",
      "160\n",
      "161\n",
      "162\n",
      "163\n",
      "164\n",
      "165\n",
      "166\n",
      "167\n",
      "168\n",
      "169\n",
      "170\n",
      "171\n",
      "172\n",
      "173\n",
      "174\n",
      "175\n",
      "176\n",
      "177\n",
      "178\n",
      "179\n",
      "180\n",
      "181\n",
      "182\n",
      "183\n",
      "184\n",
      "185\n",
      "186\n",
      "187\n",
      "188\n",
      "189\n",
      "190\n",
      "191\n",
      "192\n",
      "193\n",
      "194\n",
      "195\n",
      "196\n",
      "197\n",
      "198\n",
      "199\n",
      "200\n",
      "201\n",
      "202\n",
      "203\n",
      "204\n",
      "205\n",
      "206\n",
      "207\n",
      "208\n",
      "209\n",
      "210\n",
      "211\n",
      "212\n",
      "213\n",
      "214\n",
      "215\n",
      "216\n",
      "217\n",
      "218\n",
      "219\n",
      "220\n",
      "221\n",
      "222\n",
      "223\n",
      "224\n",
      "225\n",
      "226\n",
      "227\n",
      "228\n",
      "229\n",
      "230\n",
      "231\n",
      "232\n",
      "233\n",
      "234\n",
      "235\n",
      "236\n",
      "237\n",
      "238\n",
      "239\n",
      "240\n",
      "241\n",
      "242\n",
      "243\n",
      "244\n",
      "245\n",
      "246\n",
      "247\n",
      "248\n",
      "249\n",
      "250\n",
      "251\n",
      "252\n",
      "253\n",
      "254\n",
      "255\n",
      "256\n",
      "257\n",
      "258\n",
      "259\n",
      "260\n",
      "261\n",
      "262\n",
      "263\n",
      "264\n",
      "265\n",
      "266\n",
      "267\n",
      "268\n",
      "269\n",
      "270\n",
      "271\n",
      "272\n",
      "273\n",
      "274\n",
      "275\n",
      "276\n",
      "277\n",
      "278\n",
      "279\n",
      "280\n",
      "281\n",
      "282\n",
      "283\n",
      "284\n",
      "285\n",
      "286\n",
      "287\n",
      "288\n",
      "289\n",
      "290\n",
      "291\n",
      "292\n",
      "293\n",
      "294\n",
      "295\n",
      "296\n",
      "297\n",
      "298\n",
      "299\n",
      "300\n",
      "301\n",
      "302\n",
      "303\n",
      "304\n",
      "305\n",
      "306\n",
      "307\n",
      "308\n",
      "309\n",
      "310\n",
      "311\n",
      "312\n",
      "313\n",
      "314\n",
      "315\n",
      "316\n",
      "317\n",
      "318\n",
      "319\n",
      "320\n",
      "321\n",
      "322\n",
      "323\n",
      "324\n",
      "325\n",
      "326\n",
      "327\n",
      "328\n",
      "329\n",
      "330\n",
      "331\n",
      "332\n",
      "333\n",
      "334\n",
      "335\n",
      "336\n",
      "337\n",
      "338\n",
      "339\n",
      "340\n",
      "341\n",
      "342\n",
      "343\n",
      "344\n",
      "345\n",
      "346\n",
      "347\n",
      "348\n",
      "349\n",
      "350\n",
      "351\n",
      "352\n",
      "353\n",
      "354\n",
      "355\n",
      "356\n",
      "357\n",
      "358\n",
      "359\n",
      "360\n",
      "361\n",
      "362\n",
      "363\n",
      "364\n",
      "365\n",
      "366\n",
      "367\n",
      "368\n",
      "369\n",
      "370\n",
      "371\n",
      "372\n",
      "373\n",
      "374\n",
      "375\n",
      "376\n",
      "377\n",
      "378\n",
      "379\n",
      "380\n",
      "381\n",
      "382\n",
      "383\n",
      "384\n",
      "385\n",
      "386\n",
      "387\n",
      "388\n",
      "389\n",
      "390\n",
      "391\n",
      "392\n",
      "393\n",
      "394\n",
      "395\n",
      "396\n",
      "397\n",
      "398\n",
      "399\n",
      "400\n",
      "401\n",
      "402\n",
      "403\n",
      "404\n",
      "405\n",
      "406\n",
      "407\n",
      "408\n",
      "409\n",
      "410\n",
      "411\n",
      "412\n",
      "413\n",
      "414\n",
      "415\n",
      "416\n",
      "417\n",
      "418\n",
      "419\n",
      "420\n",
      "421\n",
      "422\n",
      "423\n",
      "424\n",
      "425\n",
      "426\n",
      "427\n",
      "428\n",
      "429\n",
      "430\n",
      "431\n",
      "432\n",
      "433\n",
      "434\n",
      "435\n",
      "436\n",
      "437\n",
      "438\n",
      "439\n",
      "440\n",
      "441\n",
      "442\n",
      "443\n",
      "444\n",
      "445\n",
      "446\n",
      "447\n",
      "448\n",
      "449\n",
      "450\n",
      "451\n",
      "452\n",
      "453\n",
      "454\n",
      "455\n",
      "456\n",
      "457\n",
      "458\n",
      "459\n",
      "460\n",
      "461\n",
      "462\n",
      "463\n",
      "464\n",
      "465\n",
      "466\n",
      "467\n",
      "468\n",
      "469\n",
      "470\n",
      "471\n",
      "472\n",
      "473\n",
      "474\n",
      "475\n",
      "476\n",
      "477\n",
      "478\n",
      "479\n",
      "480\n",
      "481\n",
      "482\n",
      "483\n",
      "484\n",
      "485\n",
      "486\n",
      "487\n",
      "488\n",
      "489\n",
      "490\n",
      "491\n",
      "492\n",
      "493\n",
      "494\n",
      "495\n",
      "496\n",
      "497\n",
      "498\n",
      "499\n",
      "500\n",
      "501\n",
      "502\n",
      "503\n",
      "504\n",
      "505\n",
      "506\n",
      "507\n",
      "508\n",
      "509\n",
      "510\n",
      "511\n",
      "512\n",
      "513\n",
      "514\n",
      "515\n",
      "516\n",
      "517\n",
      "518\n",
      "519\n",
      "520\n",
      "521\n",
      "522\n",
      "523\n",
      "524\n",
      "525\n",
      "526\n",
      "527\n",
      "528\n",
      "529\n",
      "530\n",
      "531\n",
      "532\n",
      "533\n",
      "534\n",
      "535\n",
      "536\n",
      "537\n",
      "538\n",
      "539\n",
      "540\n",
      "541\n",
      "542\n",
      "543\n",
      "544\n",
      "545\n",
      "546\n",
      "547\n",
      "548\n",
      "549\n",
      "550\n",
      "551\n",
      "552\n",
      "553\n",
      "554\n",
      "555\n",
      "556\n",
      "557\n",
      "558\n",
      "559\n",
      "560\n",
      "561\n",
      "562\n",
      "563\n",
      "564\n",
      "565\n",
      "566\n",
      "567\n",
      "568\n",
      "569\n",
      "570\n",
      "571\n",
      "572\n",
      "573\n",
      "574\n",
      "575\n",
      "576\n",
      "577\n",
      "578\n",
      "579\n",
      "580\n",
      "581\n",
      "582\n",
      "583\n",
      "584\n",
      "585\n",
      "586\n",
      "587\n",
      "588\n",
      "589\n",
      "590\n",
      "591\n",
      "592\n",
      "593\n",
      "594\n",
      "595\n",
      "596\n",
      "597\n",
      "598\n",
      "599\n",
      "600\n",
      "601\n",
      "602\n",
      "603\n",
      "604\n",
      "605\n",
      "606\n",
      "607\n",
      "608\n",
      "609\n",
      "610\n",
      "611\n",
      "612\n",
      "613\n",
      "614\n",
      "615\n",
      "616\n",
      "617\n",
      "618\n",
      "619\n",
      "620\n",
      "621\n",
      "622\n",
      "623\n",
      "624\n",
      "625\n",
      "626\n",
      "627\n",
      "628\n",
      "629\n",
      "630\n",
      "631\n",
      "632\n",
      "633\n",
      "634\n",
      "635\n",
      "636\n",
      "637\n",
      "638\n",
      "639\n",
      "640\n",
      "641\n",
      "642\n",
      "643\n",
      "644\n",
      "645\n",
      "646\n",
      "647\n",
      "648\n",
      "649\n",
      "650\n",
      "651\n",
      "652\n",
      "653\n",
      "654\n",
      "655\n",
      "656\n",
      "657\n",
      "658\n",
      "659\n",
      "660\n",
      "661\n",
      "662\n",
      "663\n",
      "664\n",
      "665\n",
      "666\n",
      "667\n",
      "668\n",
      "669\n",
      "670\n",
      "671\n",
      "672\n",
      "673\n",
      "674\n",
      "675\n",
      "676\n",
      "677\n",
      "678\n",
      "679\n",
      "680\n",
      "681\n",
      "682\n",
      "683\n",
      "684\n",
      "685\n",
      "686\n",
      "687\n",
      "688\n",
      "689\n",
      "690\n",
      "691\n",
      "692\n",
      "693\n",
      "694\n",
      "695\n",
      "696\n",
      "697\n",
      "698\n",
      "699\n",
      "700\n",
      "701\n",
      "702\n",
      "703\n",
      "704\n",
      "705\n",
      "706\n",
      "707\n",
      "708\n",
      "709\n",
      "710\n",
      "711\n",
      "712\n",
      "713\n",
      "714\n",
      "715\n",
      "716\n",
      "717\n",
      "718\n",
      "719\n",
      "720\n",
      "721\n",
      "722\n",
      "723\n",
      "724\n",
      "725\n",
      "726\n",
      "727\n",
      "728\n",
      "729\n",
      "730\n",
      "731\n",
      "732\n",
      "733\n",
      "734\n",
      "735\n",
      "736\n",
      "737\n",
      "738\n",
      "739\n",
      "740\n",
      "741\n",
      "742\n",
      "743\n",
      "744\n",
      "745\n",
      "746\n",
      "747\n",
      "748\n",
      "749\n",
      "750\n",
      "751\n",
      "752\n",
      "753\n",
      "754\n",
      "755\n",
      "756\n",
      "757\n",
      "758\n",
      "759\n",
      "760\n",
      "761\n",
      "762\n",
      "763\n",
      "764\n",
      "765\n",
      "766\n",
      "767\n",
      "768\n",
      "769\n",
      "770\n",
      "771\n",
      "772\n",
      "773\n",
      "774\n",
      "775\n",
      "776\n",
      "777\n",
      "778\n",
      "779\n",
      "780\n",
      "781\n",
      "782\n",
      "783\n",
      "784\n",
      "785\n",
      "786\n",
      "787\n",
      "788\n",
      "789\n",
      "790\n",
      "791\n",
      "792\n",
      "793\n",
      "794\n",
      "795\n",
      "796\n",
      "797\n",
      "798\n",
      "799\n",
      "800\n",
      "801\n",
      "802\n",
      "803\n",
      "804\n",
      "805\n",
      "806\n",
      "807\n",
      "808\n",
      "809\n",
      "810\n",
      "811\n",
      "812\n",
      "813\n",
      "814\n",
      "815\n",
      "816\n",
      "817\n",
      "818\n",
      "819\n",
      "820\n",
      "821\n",
      "822\n",
      "823\n",
      "824\n",
      "825\n",
      "826\n",
      "827\n",
      "828\n",
      "829\n",
      "830\n",
      "831\n",
      "832\n",
      "833\n",
      "834\n",
      "835\n",
      "836\n",
      "837\n",
      "838\n",
      "839\n",
      "840\n",
      "841\n",
      "842\n",
      "843\n",
      "844\n",
      "845\n",
      "846\n",
      "847\n",
      "848\n",
      "849\n",
      "850\n",
      "851\n",
      "852\n",
      "853\n",
      "854\n",
      "855\n",
      "856\n",
      "857\n",
      "858\n",
      "859\n",
      "860\n",
      "861\n",
      "862\n",
      "863\n",
      "864\n",
      "865\n",
      "866\n",
      "867\n",
      "868\n",
      "869\n",
      "870\n",
      "871\n",
      "872\n",
      "873\n",
      "874\n",
      "875\n",
      "876\n",
      "877\n",
      "878\n",
      "879\n",
      "880\n",
      "881\n",
      "882\n",
      "883\n",
      "884\n",
      "885\n",
      "886\n",
      "887\n",
      "888\n",
      "889\n",
      "890\n",
      "891\n",
      "892\n",
      "893\n",
      "894\n",
      "895\n",
      "896\n",
      "897\n",
      "898\n",
      "899\n",
      "900\n",
      "901\n",
      "902\n",
      "903\n",
      "904\n",
      "905\n",
      "906\n",
      "907\n",
      "908\n",
      "909\n",
      "910\n",
      "911\n",
      "912\n",
      "913\n",
      "914\n",
      "915\n",
      "916\n",
      "917\n",
      "918\n",
      "919\n",
      "920\n",
      "921\n",
      "922\n",
      "923\n",
      "924\n",
      "925\n",
      "926\n",
      "927\n",
      "928\n",
      "929\n",
      "930\n",
      "931\n",
      "932\n",
      "933\n",
      "934\n",
      "935\n",
      "936\n",
      "937\n",
      "938\n",
      "939\n",
      "940\n",
      "941\n",
      "942\n",
      "943\n",
      "944\n",
      "945\n",
      "946\n",
      "947\n",
      "948\n",
      "949\n",
      "950\n",
      "951\n",
      "952\n",
      "953\n",
      "954\n",
      "955\n",
      "956\n",
      "957\n",
      "958\n",
      "959\n",
      "960\n",
      "961\n",
      "962\n",
      "963\n",
      "964\n",
      "965\n",
      "966\n",
      "967\n",
      "968\n",
      "969\n",
      "970\n",
      "971\n",
      "972\n",
      "973\n",
      "974\n",
      "975\n",
      "976\n",
      "977\n",
      "978\n",
      "979\n",
      "980\n",
      "981\n",
      "982\n",
      "983\n",
      "984\n",
      "985\n",
      "986\n",
      "987\n",
      "988\n",
      "989\n",
      "990\n",
      "991\n",
      "992\n",
      "993\n",
      "994\n",
      "995\n",
      "996\n",
      "997\n",
      "998\n",
      "999\n"
     ]
    }
   ],
   "source": [
    "l = [x for x in range(1000)]\n",
    "\n",
    "for i in l:\n",
    "    print(i)"
   ]
  },
  {
   "cell_type": "code",
   "execution_count": 9,
   "id": "718e0e9e",
   "metadata": {},
   "outputs": [
    {
     "data": {
      "text/plain": [
       "824456"
      ]
     },
     "execution_count": 9,
     "metadata": {},
     "output_type": "execute_result"
    }
   ],
   "source": [
    "l = [x for x in range(100000)]\n",
    "\n",
    "# for i in l:\n",
    "#     print(i)\n",
    "\n",
    "import sys\n",
    "\n",
    "sys.getsizeof(l)"
   ]
  },
  {
   "cell_type": "code",
   "execution_count": 10,
   "id": "c4768062",
   "metadata": {},
   "outputs": [
    {
     "data": {
      "text/plain": [
       "48"
      ]
     },
     "execution_count": 10,
     "metadata": {},
     "output_type": "execute_result"
    }
   ],
   "source": [
    "x = range(10000000)\n",
    "\n",
    "# for i in x:\n",
    "#     print(i)\n",
    "\n",
    "sys.getsizeof(x)"
   ]
  },
  {
   "cell_type": "code",
   "execution_count": 16,
   "id": "12b030c3",
   "metadata": {},
   "outputs": [
    {
     "name": "stdout",
     "output_type": "stream",
     "text": [
      "hello1\n",
      "hello2\n",
      "hello3\n"
     ]
    }
   ],
   "source": [
    "def generator():\n",
    "    yield 'hello1'\n",
    "    yield 'hello2'\n",
    "    yield 'hello3'\n",
    "    \n",
    "q = generator() \n",
    "\n",
    "# print(next(q))\n",
    "# print(next(q))\n",
    "# print(next(q))\n",
    "\n",
    "for i in q:\n",
    "    print(i)"
   ]
  },
  {
   "cell_type": "code",
   "execution_count": 22,
   "id": "0e7af982",
   "metadata": {},
   "outputs": [
    {
     "name": "stdout",
     "output_type": "stream",
     "text": [
      "1\n",
      "2\n",
      "3\n",
      "4 5 6 7 8 9 10 11 12 13 14 15 16 17 18 19 20 "
     ]
    }
   ],
   "source": [
    "def square(num):\n",
    "    for i in range(1,num+1):\n",
    "        yield i\n",
    "        \n",
    "        \n",
    "w = square(20)\n",
    "\n",
    "print(next(w))\n",
    "print(next(w))\n",
    "print(next(w))\n",
    "\n",
    "for i in w:\n",
    "    print(i,end=\" \")\n"
   ]
  },
  {
   "cell_type": "code",
   "execution_count": 23,
   "id": "b6a26d20",
   "metadata": {},
   "outputs": [
    {
     "name": "stdout",
     "output_type": "stream",
     "text": [
      "[1, 4, 9, 16, 25, 36, 49, 64, 81, 100, 121, 144, 169, 196, 225, 256, 289, 324, 361]\n"
     ]
    }
   ],
   "source": [
    "# list comprehension:\n",
    "\n",
    "l = [i**2 for i in range(1,20)]\n",
    "\n",
    "print(l)"
   ]
  },
  {
   "cell_type": "code",
   "execution_count": 28,
   "id": "7ecb5b37",
   "metadata": {},
   "outputs": [
    {
     "name": "stdout",
     "output_type": "stream",
     "text": [
      "1 4 9 16 25 36 49 64 81 100 121 144 169 196 225 256 289 324 361 "
     ]
    }
   ],
   "source": [
    "# generator comprehension:\n",
    "\n",
    "generator = (i**2 for i in range(1,20))\n",
    "\n",
    "#print(generator)\n",
    "\n",
    "# print(next(generator))\n",
    "# print(next(generator))\n",
    "# print(next(generator))\n",
    "\n",
    "for i in generator:\n",
    "    print(i,end=' ')"
   ]
  },
  {
   "cell_type": "code",
   "execution_count": null,
   "id": "ad0b67c7",
   "metadata": {},
   "outputs": [],
   "source": [
    "# iterable:\n",
    "#          it is a object and uses iter function to generate iterator\n",
    "\n",
    "\n",
    "#iterator:\n",
    "#         it is also an object and it uses next function for returninng output/result"
   ]
  },
  {
   "cell_type": "code",
   "execution_count": 30,
   "id": "ba715824",
   "metadata": {},
   "outputs": [
    {
     "name": "stdout",
     "output_type": "stream",
     "text": [
      "1\n",
      "2\n",
      "3\n",
      "4\n"
     ]
    }
   ],
   "source": [
    "l = [1,2,3,4,5,6,7,8,9]\n",
    "\n",
    "f = iter(l)\n",
    "print(next(f))\n",
    "print(next(f))\n",
    "print(next(f))\n",
    "print(next(f))"
   ]
  },
  {
   "cell_type": "code",
   "execution_count": null,
   "id": "3b86050b",
   "metadata": {},
   "outputs": [],
   "source": []
  },
  {
   "cell_type": "code",
   "execution_count": null,
   "id": "02076edc",
   "metadata": {},
   "outputs": [],
   "source": []
  },
  {
   "cell_type": "code",
   "execution_count": null,
   "id": "823434fa",
   "metadata": {},
   "outputs": [],
   "source": []
  },
  {
   "cell_type": "code",
   "execution_count": null,
   "id": "e82ebb9c",
   "metadata": {},
   "outputs": [],
   "source": []
  },
  {
   "cell_type": "code",
   "execution_count": null,
   "id": "df82f9cd",
   "metadata": {},
   "outputs": [],
   "source": []
  },
  {
   "cell_type": "code",
   "execution_count": null,
   "id": "55ef177f",
   "metadata": {},
   "outputs": [],
   "source": []
  },
  {
   "cell_type": "code",
   "execution_count": null,
   "id": "946ccec1",
   "metadata": {},
   "outputs": [],
   "source": []
  },
  {
   "cell_type": "code",
   "execution_count": null,
   "id": "5f2e0dbc",
   "metadata": {},
   "outputs": [],
   "source": []
  },
  {
   "cell_type": "code",
   "execution_count": null,
   "id": "83e107a5",
   "metadata": {},
   "outputs": [],
   "source": []
  },
  {
   "cell_type": "code",
   "execution_count": null,
   "id": "cbbbacb3",
   "metadata": {},
   "outputs": [],
   "source": []
  },
  {
   "cell_type": "code",
   "execution_count": null,
   "id": "35e67f2b",
   "metadata": {},
   "outputs": [],
   "source": []
  },
  {
   "cell_type": "code",
   "execution_count": null,
   "id": "f8e7a254",
   "metadata": {},
   "outputs": [],
   "source": [
    "6! = 6*5*4*3*2*1"
   ]
  },
  {
   "cell_type": "code",
   "execution_count": 46,
   "id": "5770701f",
   "metadata": {},
   "outputs": [
    {
     "name": "stdout",
     "output_type": "stream",
     "text": [
      "ramsharma\n"
     ]
    }
   ],
   "source": [
    "def add(x,y):\n",
    "    \n",
    "    t = x+y\n",
    "    \n",
    "    return t\n",
    "\n",
    "    \n",
    "print(add('ram','sharma'))"
   ]
  },
  {
   "cell_type": "code",
   "execution_count": null,
   "id": "d32bcaa8",
   "metadata": {},
   "outputs": [],
   "source": []
  },
  {
   "cell_type": "code",
   "execution_count": null,
   "id": "cc128a24",
   "metadata": {},
   "outputs": [],
   "source": []
  },
  {
   "cell_type": "code",
   "execution_count": null,
   "id": "214d38b2",
   "metadata": {},
   "outputs": [],
   "source": []
  },
  {
   "cell_type": "code",
   "execution_count": null,
   "id": "af922d9f",
   "metadata": {},
   "outputs": [],
   "source": []
  },
  {
   "cell_type": "code",
   "execution_count": null,
   "id": "700d348e",
   "metadata": {},
   "outputs": [],
   "source": []
  },
  {
   "cell_type": "code",
   "execution_count": null,
   "id": "c85d1531",
   "metadata": {},
   "outputs": [],
   "source": []
  },
  {
   "cell_type": "code",
   "execution_count": null,
   "id": "0fe151e7",
   "metadata": {},
   "outputs": [],
   "source": []
  },
  {
   "cell_type": "code",
   "execution_count": null,
   "id": "6351dcb2",
   "metadata": {},
   "outputs": [],
   "source": []
  },
  {
   "cell_type": "code",
   "execution_count": 10,
   "id": "76314f3c",
   "metadata": {},
   "outputs": [
    {
     "name": "stdout",
     "output_type": "stream",
     "text": [
      "enter no. of rows: 6\n",
      "******\n",
      "*****\n",
      "****\n",
      "***\n",
      "**\n",
      "*\n"
     ]
    }
   ],
   "source": [
    "#######               # range(start,end+1,-step)\n",
    "#####\n",
    "###\n",
    "##\n",
    "#\n",
    "\n",
    "\n",
    "num = int(input(\"enter no. of rows: \"))  # num=6\n",
    "\n",
    "for row in range(num,0,-1):    # range(6,0,-1)--->6\n",
    "    \n",
    "    for col in range(0,row):  # range(0,6)-->0,1,2,3,4,5\n",
    "        print(\"*\",end=\"\")\n",
    "        \n",
    "    print()"
   ]
  },
  {
   "cell_type": "code",
   "execution_count": 26,
   "id": "492b71aa",
   "metadata": {},
   "outputs": [
    {
     "name": "stdout",
     "output_type": "stream",
     "text": [
      "      *\n",
      "     ***\n",
      "    *****\n",
      "   *******\n",
      "  *********\n",
      " ***********\n",
      "*************\n",
      "*************\n",
      " ***********\n",
      "  *********\n",
      "   *******\n",
      "    *****\n",
      "     ***\n",
      "      *\n"
     ]
    }
   ],
   "source": [
    "# diamond:\n",
    "\n",
    "def diamond(row):\n",
    "    \n",
    "    for i in range(row):\n",
    "        print(\" \"*(row-i-1) + \"*\"*(2*i+1))\n",
    "        \n",
    "    for j in range(row-1,-1,-1):\n",
    "        print(\" \"*(row-j-1) + \"*\"*(2*j+1))\n",
    "        \n",
    "diamond(7)"
   ]
  },
  {
   "cell_type": "code",
   "execution_count": 32,
   "id": "9d607a3a",
   "metadata": {},
   "outputs": [
    {
     "name": "stdout",
     "output_type": "stream",
     "text": [
      "enter no of rows: 6\n",
      "1 \n",
      "1 2 \n",
      "1 2 3 \n",
      "1 2 3 4 \n",
      "1 2 3 4 5 \n",
      "1 2 3 4 5 6 \n"
     ]
    }
   ],
   "source": [
    "# 1\n",
    "# 12\n",
    "\n",
    "n = int(input('enter no of rows: '))\n",
    "\n",
    "for row in range(n):\n",
    "    \n",
    "    for col in range(row+1):\n",
    "        print(col+1,end=' ')\n",
    "        \n",
    "    print()"
   ]
  },
  {
   "cell_type": "code",
   "execution_count": 4,
   "id": "a5d7140f",
   "metadata": {},
   "outputs": [
    {
     "name": "stdout",
     "output_type": "stream",
     "text": [
      "enter no. of rows: 6\n",
      "1 \n",
      "2 1 \n",
      "3 2 1 \n",
      "4 3 2 1 \n",
      "5 4 3 2 1 \n",
      "6 5 4 3 2 1 \n"
     ]
    }
   ],
   "source": [
    "n = int(input('enter no. of rows: '))\n",
    "\n",
    "for row in range(n):\n",
    "    for col in range(row,-1,-1):\n",
    "        print(col+1,end=' ')\n",
    "    print()\n"
   ]
  },
  {
   "cell_type": "code",
   "execution_count": 6,
   "id": "7b3560ef",
   "metadata": {},
   "outputs": [
    {
     "name": "stdout",
     "output_type": "stream",
     "text": [
      "enter no. of rows: 6\n",
      "1 \n",
      "2 2 \n",
      "3 3 3 \n",
      "4 4 4 4 \n",
      "5 5 5 5 5 \n",
      "6 6 6 6 6 6 \n"
     ]
    }
   ],
   "source": [
    "n = int(input('enter no. of rows: '))\n",
    "\n",
    "for row in range(n):\n",
    "    for col in range(row,-1,-1):\n",
    "        print(row+1,end=' ')\n",
    "    print()"
   ]
  },
  {
   "cell_type": "code",
   "execution_count": 8,
   "id": "7fc0b960",
   "metadata": {},
   "outputs": [
    {
     "name": "stdout",
     "output_type": "stream",
     "text": [
      "enter no of rows: 6\n",
      "6 \n",
      "5 5 \n",
      "4 4 4 \n",
      "3 3 3 3 \n",
      "2 2 2 2 2 \n",
      "1 1 1 1 1 1 \n"
     ]
    }
   ],
   "source": [
    "n = int(input('enter no of rows: '))\n",
    "\n",
    "for row in range(n):\n",
    "    for col in range(row+1):\n",
    "        print(n-row,end=' ')\n",
    "    print()\n"
   ]
  },
  {
   "cell_type": "code",
   "execution_count": 11,
   "id": "ec623b02",
   "metadata": {},
   "outputs": [
    {
     "name": "stdout",
     "output_type": "stream",
     "text": [
      "enter no of rows: 6\n",
      "6 \n",
      "6 5 \n",
      "6 5 4 \n",
      "6 5 4 3 \n",
      "6 5 4 3 2 \n",
      "6 5 4 3 2 1 \n"
     ]
    }
   ],
   "source": [
    "n = int(input('enter no of rows: '))\n",
    "\n",
    "for row in range(n):\n",
    "    for col in range(row+1):\n",
    "        print(n-col,end=' ')\n",
    "    print()\n",
    "\n"
   ]
  },
  {
   "cell_type": "code",
   "execution_count": 12,
   "id": "74845c7c",
   "metadata": {},
   "outputs": [
    {
     "name": "stdout",
     "output_type": "stream",
     "text": [
      "enter no of rows: 6\n",
      "6 \n",
      "5 6 \n",
      "4 5 6 \n",
      "3 4 5 6 \n",
      "2 3 4 5 6 \n",
      "1 2 3 4 5 6 \n"
     ]
    }
   ],
   "source": [
    "n = int(input('enter no of rows: '))\n",
    "\n",
    "for row in range(n):\n",
    "    for col in range(row,-1,-1):\n",
    "        print(n-col,end=' ')\n",
    "    print()\n"
   ]
  },
  {
   "cell_type": "code",
   "execution_count": 19,
   "id": "c2e9a047",
   "metadata": {},
   "outputs": [
    {
     "name": "stdout",
     "output_type": "stream",
     "text": [
      "enter no of rows: 6\n",
      "          6 \n",
      "        5 6 \n",
      "      4 5 6 \n",
      "    3 4 5 6 \n",
      "  2 3 4 5 6 \n",
      "1 2 3 4 5 6 \n"
     ]
    }
   ],
   "source": [
    "n = int(input('enter no of rows: '))\n",
    "\n",
    "for row in range(n):\n",
    "    \n",
    "    for space in range(n-row-1):\n",
    "        print(' ',end=' ')\n",
    "    \n",
    "    for col in range(row,-1,-1):\n",
    "        print(n-col,end=' ')\n",
    "    print()"
   ]
  },
  {
   "cell_type": "code",
   "execution_count": null,
   "id": "4f98267e",
   "metadata": {},
   "outputs": [],
   "source": []
  },
  {
   "cell_type": "code",
   "execution_count": null,
   "id": "eeb8e130",
   "metadata": {},
   "outputs": [],
   "source": []
  },
  {
   "cell_type": "code",
   "execution_count": null,
   "id": "9b7d95a6",
   "metadata": {},
   "outputs": [],
   "source": []
  },
  {
   "cell_type": "code",
   "execution_count": null,
   "id": "d27e4ddf",
   "metadata": {},
   "outputs": [],
   "source": []
  },
  {
   "cell_type": "code",
   "execution_count": null,
   "id": "5dd93d23",
   "metadata": {},
   "outputs": [],
   "source": []
  },
  {
   "cell_type": "code",
   "execution_count": null,
   "id": "e88580d2",
   "metadata": {},
   "outputs": [],
   "source": []
  },
  {
   "cell_type": "code",
   "execution_count": null,
   "id": "01d0eab9",
   "metadata": {},
   "outputs": [],
   "source": []
  }
 ],
 "metadata": {
  "kernelspec": {
   "display_name": "Python 3 (ipykernel)",
   "language": "python",
   "name": "python3"
  },
  "language_info": {
   "codemirror_mode": {
    "name": "ipython",
    "version": 3
   },
   "file_extension": ".py",
   "mimetype": "text/x-python",
   "name": "python",
   "nbconvert_exporter": "python",
   "pygments_lexer": "ipython3",
   "version": "3.8.8"
  }
 },
 "nbformat": 4,
 "nbformat_minor": 5
}
